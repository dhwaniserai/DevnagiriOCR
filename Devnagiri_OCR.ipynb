{
  "nbformat": 4,
  "nbformat_minor": 0,
  "metadata": {
    "colab": {
      "name": "Devnagiri_OCR.ipynb",
      "provenance": []
    },
    "kernelspec": {
      "name": "python3",
      "display_name": "Python 3"
    }
  },
  "cells": [
    {
      "cell_type": "code",
      "metadata": {
        "id": "tD0V2uyX4tY-"
      },
      "source": [
        "## function for Converting pdf file to image\n",
        "\n",
        "from pdf2image import convert_from_path   \n",
        "def pdf2img(filepath):  \n",
        "# Store Pdf with convert_from_path function \n",
        "  images = convert_from_path(filepath) \n",
        "  return images"
      ],
      "execution_count": null,
      "outputs": []
    },
    {
      "cell_type": "code",
      "metadata": {
        "id": "wZBBLMdQ5VWQ"
      },
      "source": [
        ""
      ],
      "execution_count": null,
      "outputs": []
    },
    {
      "cell_type": "markdown",
      "metadata": {
        "id": "rVJQw3vq82QN"
      },
      "source": [
        "Devnagiri OCR"
      ]
    },
    {
      "cell_type": "code",
      "metadata": {
        "id": "tFqopGkC816p"
      },
      "source": [
        "import pandas as pd\n",
        "import numpy as np\n",
        "import matplotlib.pyplot as plt\n",
        "import seaborn as sns\n",
        "from sklearn.model_selection import train_test_split"
      ],
      "execution_count": null,
      "outputs": []
    },
    {
      "cell_type": "code",
      "metadata": {
        "id": "2-HnRO5M8122"
      },
      "source": [
        "dataset = pd.read_csv(\"/content/data.csv\")"
      ],
      "execution_count": null,
      "outputs": []
    },
    {
      "cell_type": "code",
      "metadata": {
        "id": "q0g6UBtE9E2Y"
      },
      "source": [
        "dataset.head()"
      ],
      "execution_count": null,
      "outputs": []
    },
    {
      "cell_type": "code",
      "metadata": {
        "id": "xWhkh-uZ9E9l"
      },
      "source": [
        "X = dataset.iloc[:,:-1]\n",
        "Y = dataset.iloc[:,-1]"
      ],
      "execution_count": null,
      "outputs": []
    },
    {
      "cell_type": "code",
      "metadata": {
        "id": "nbU9GP0G9FLH"
      },
      "source": [
        "X.head()"
      ],
      "execution_count": null,
      "outputs": []
    },
    {
      "cell_type": "code",
      "metadata": {
        "id": "zUa7X58F9FQv"
      },
      "source": [
        "Y.head()"
      ],
      "execution_count": null,
      "outputs": []
    },
    {
      "cell_type": "code",
      "metadata": {
        "id": "byQUTtlu9FN-"
      },
      "source": [
        "num_pixels = X.shape[1]\n",
        "num_classes = 46\n",
        "img_width = 32\n",
        "img_height = 32\n",
        "img_depth = 1 "
      ],
      "execution_count": null,
      "outputs": []
    },
    {
      "cell_type": "code",
      "metadata": {
        "id": "xl9YVeIX9FCg"
      },
      "source": [
        "X_images = X.values.reshape(X.shape[0], img_width, img_height)"
      ],
      "execution_count": null,
      "outputs": []
    },
    {
      "cell_type": "code",
      "metadata": {
        "id": "mlAoHbQi9E6Z"
      },
      "source": [
        "for i in range(1, 9):    \n",
        "    plt.subplot(240+i)\n",
        "    plt.axis('off')\n",
        "    plt.imshow(X_images[i-1], cmap=plt.get_cmap('gray'))\n",
        "plt.show()"
      ],
      "execution_count": null,
      "outputs": []
    },
    {
      "cell_type": "code",
      "metadata": {
        "id": "O1sw93fo9EzE"
      },
      "source": [
        "dataset.iloc[:,1024]"
      ],
      "execution_count": null,
      "outputs": []
    },
    {
      "cell_type": "code",
      "metadata": {
        "id": "OyjywTNI9e45"
      },
      "source": [
        "dataset.iloc[:,1024].value_counts()"
      ],
      "execution_count": null,
      "outputs": []
    },
    {
      "cell_type": "code",
      "metadata": {
        "id": "XNgmCcle9e_b"
      },
      "source": [
        "rows_to_remove = np.where(dataset.iloc[:,1024].values==1024)\n",
        "rows_to_remove"
      ],
      "execution_count": null,
      "outputs": []
    },
    {
      "cell_type": "code",
      "metadata": {
        "id": "ry-ZOXWJ9fOc"
      },
      "source": [
        "#removing columns having string description of input value\n",
        "dataset = dataset.drop(dataset.index[rows_to_remove[0]])"
      ],
      "execution_count": null,
      "outputs": []
    },
    {
      "cell_type": "code",
      "metadata": {
        "id": "ip4BxDXh9fF1"
      },
      "source": [
        "X = dataset.iloc[:,:-1]\n",
        "X_images = X.values.reshape(X.shape[0], img_width, img_height)\n",
        "Y = dataset.iloc[:,-1]"
      ],
      "execution_count": null,
      "outputs": []
    },
    {
      "cell_type": "code",
      "metadata": {
        "id": "1btiDX8O9e8T"
      },
      "source": [
        "# output in binary format\n",
        "from sklearn.preprocessing import LabelBinarizer\n",
        "binencoder = LabelBinarizer()\n",
        "Y = binencoder.fit_transform(Y)"
      ],
      "execution_count": null,
      "outputs": []
    },
    {
      "cell_type": "code",
      "metadata": {
        "id": "tf4ww8lM9e1u"
      },
      "source": [
        "# data normalization\n",
        "X = X / 255"
      ],
      "execution_count": null,
      "outputs": []
    },
    {
      "cell_type": "code",
      "metadata": {
        "id": "W6r-t5FO9tup"
      },
      "source": [
        "X_train, X_test, y_train, y_test = train_test_split(X, Y, test_size=0.20)"
      ],
      "execution_count": null,
      "outputs": []
    },
    {
      "cell_type": "code",
      "metadata": {
        "id": "4Q1Ljgq29t17"
      },
      "source": [
        "from keras.models import Sequential\n",
        "from keras.layers import Dense\n",
        "from keras.models import Model"
      ],
      "execution_count": null,
      "outputs": []
    },
    {
      "cell_type": "code",
      "metadata": {
        "id": "rbyh12Mk9t7G"
      },
      "source": [
        "def baseline_model():\n",
        "    model = Sequential()\n",
        "    model.add(Dense(num_pixels, input_dim=num_pixels, kernel_initializer='normal', activation='relu'))\n",
        "    model.add(Dense(num_classes, kernel_initializer='normal', activation='softmax'))\n",
        "    # Compile model\n",
        "    model.compile(loss='categorical_crossentropy', optimizer='adam', metrics=['accuracy'])\n",
        "    return model"
      ],
      "execution_count": null,
      "outputs": []
    },
    {
      "cell_type": "code",
      "metadata": {
        "id": "oyO4NDHA9tzF"
      },
      "source": [
        "model = baseline_model()\n",
        "\n",
        "epochs = 10\n",
        "batch_size = 400\n",
        "history = model.fit(X_train.values, y_train, validation_split=0.20, epochs=epochs, batch_size=batch_size, verbose=2)"
      ],
      "execution_count": null,
      "outputs": []
    },
    {
      "cell_type": "code",
      "metadata": {
        "id": "2R8eN3SM9trQ"
      },
      "source": [
        "cores = model.evaluate(X_test.values, y_test, verbose=0)\n",
        "print(\"Accuracy: %.2f%%\" % (scores[1]*100))"
      ],
      "execution_count": null,
      "outputs": []
    },
    {
      "cell_type": "code",
      "metadata": {
        "id": "ZELo7erl99k-"
      },
      "source": [
        "from keras.models import Sequential\n",
        "from keras.layers import Dense\n",
        "from keras.layers import Dropout\n",
        "from keras.layers import Flatten\n",
        "from keras.callbacks import EarlyStopping\n",
        "from keras.layers.convolutional import Conv2D\n",
        "from keras.layers.convolutional import MaxPooling2D\n",
        "from keras.utils import np_utils\n",
        "import keras\n",
        "from keras import layers"
      ],
      "execution_count": null,
      "outputs": []
    },
    {
      "cell_type": "code",
      "metadata": {
        "id": "api00u5A990Q"
      },
      "source": [
        "X_train, X_test, y_train, y_test = train_test_split(X_images, Y, test_size=0.20)\n",
        "\n",
        "X_train = X_train/255\n",
        "X_test = X_test/255"
      ],
      "execution_count": null,
      "outputs": []
    },
    {
      "cell_type": "code",
      "metadata": {
        "id": "eRIpn9uW99o8"
      },
      "source": [
        "X_train = X_train.reshape(X_train.shape[0], img_width, img_height, img_depth).astype('float32')\n",
        "X_test = X_test.reshape(X_test.shape[0], img_width, img_height, img_depth).astype('float32')"
      ],
      "execution_count": null,
      "outputs": []
    },
    {
      "cell_type": "code",
      "metadata": {
        "id": "FOYUcDoM99dS"
      },
      "source": [
        "def cnn_model():\n",
        "    model = Sequential()\n",
        "    model.add(Conv2D(32, (4, 4), input_shape=(img_height, img_width, img_depth), \n",
        "                     activation='relu', name=\"conv_1\"))\n",
        "    model.add(MaxPooling2D(pool_size=(2, 2), name=\"pool_1\"))\n",
        "    model.add(Conv2D(64, (3, 3), activation='relu', name=\"conv_2\"))\n",
        "    model.add(MaxPooling2D(pool_size=(2, 2), name=\"pool_2\"))\n",
        "    model.add(Dropout(0.2))\n",
        "    model.add(Flatten())\n",
        "    model.add(Dense(128, activation='relu', name=\"dense_1\"))\n",
        "    model.add(Dense(50, activation='relu', name=\"dense_2\"))\n",
        "    model.add(Dense(num_classes, activation='softmax', name=\"modeloutput\"))\n",
        "    \n",
        "    model.compile(loss='categorical_crossentropy', optimizer='adam', metrics=['accuracy'])\n",
        "    return model"
      ],
      "execution_count": null,
      "outputs": []
    },
    {
      "cell_type": "code",
      "metadata": {
        "id": "A_LxxLND-JQA"
      },
      "source": [
        "scores = model.evaluate(X_test, y_test, verbose=0)\n",
        "print(\"Accuracy: %.2f%%\" % (scores[1]*100))"
      ],
      "execution_count": null,
      "outputs": []
    },
    {
      "cell_type": "code",
      "metadata": {
        "id": "5gExbr9x57yH"
      },
      "source": [
        "%matplotlib inline\n",
        "from google.colab.patches import cv2_imshow"
      ],
      "execution_count": 14,
      "outputs": []
    },
    {
      "cell_type": "code",
      "metadata": {
        "id": "MHPA6eHu58Rh"
      },
      "source": [
        "## image preprocessor\n",
        "import cv2\n",
        "import numpy as np\n",
        "\n",
        "img = cv2.imread('/content/marathi.png')\n",
        "\n",
        "# get grayscale image\n",
        "def get_grayscale(image):\n",
        "    return cv2.cvtColor(image, cv2.COLOR_BGR2GRAY)\n",
        "\n",
        "# noise removal\n",
        "def remove_noise(image):\n",
        "    return cv2.medianBlur(image,5)\n",
        " \n",
        "#thresholding\n",
        "def thresholding(image):\n",
        "    return cv2.threshold(image, 0, 255, cv2.THRESH_BINARY + cv2.THRESH_OTSU)[1]\n",
        "\n",
        "#dilation\n",
        "def dilate(image):\n",
        "    kernel = np.ones((5,5),np.uint8)\n",
        "    return cv2.dilate(image, kernel, iterations = 1)\n",
        "    \n",
        "#erosion\n",
        "def erode(image):\n",
        "    kernel = np.ones((5,5),np.uint8)\n",
        "    return cv2.erode(image, kernel, iterations = 1)\n",
        "\n",
        "#opening - erosion followed by dilation\n",
        "def opening(image):\n",
        "    kernel = np.ones((2,2),np.uint8)\n",
        "    return cv2.morphologyEx(image, cv2.MORPH_OPEN, kernel)\n",
        "\n",
        "#canny edge detection\n",
        "def canny(image):\n",
        "    return cv2.Canny(image, 100, 200)\n",
        "\n",
        "#skew correction\n",
        "def deskew(image):\n",
        "    coords = np.column_stack(np.where(image > 0))\n",
        "    angle = cv2.minAreaRect(coords)[-1]\n",
        "    if angle < -45:\n",
        "        angle = -(90 + angle)\n",
        "    else:\n",
        "        angle = -angle\n",
        "    (h, w) = image.shape[:2]\n",
        "    center = (w // 2, h // 2)\n",
        "    M = cv2.getRotationMatrix2D(center, angle, 1.0)\n",
        "    rotated = cv2.warpAffine(image, M, (w, h), flags=cv2.INTER_CUBIC, borderMode=cv2.BORDER_REPLICATE)\n",
        "    return rotated\n",
        "\n",
        "#template matching\n",
        "def match_template(image, template):\n",
        "    return cv2.matchTemplate(image, template, cv2.TM_CCOEFF_NORMED) \n"
      ],
      "execution_count": 13,
      "outputs": []
    },
    {
      "cell_type": "code",
      "metadata": {
        "colab": {
          "base_uri": "https://localhost:8080/"
        },
        "id": "LioSzREn4YdD",
        "outputId": "e664cb85-e8c0-4f49-c367-3618d68fcf03"
      },
      "source": [
        "img.shape"
      ],
      "execution_count": 6,
      "outputs": [
        {
          "output_type": "execute_result",
          "data": {
            "text/plain": [
              "(188, 1198, 3)"
            ]
          },
          "metadata": {
            "tags": []
          },
          "execution_count": 6
        }
      ]
    },
    {
      "cell_type": "code",
      "metadata": {
        "colab": {
          "base_uri": "https://localhost:8080/"
        },
        "id": "ytoMlsjq6wAp",
        "outputId": "d5c1788c-2a46-40b6-c4ad-c75903d370ef"
      },
      "source": [
        "pre_img = get_grayscale(img)\n",
        "pre_img = thresholding(pre_img)\n",
        "pre_img.shape"
      ],
      "execution_count": 7,
      "outputs": [
        {
          "output_type": "execute_result",
          "data": {
            "text/plain": [
              "(188, 1198)"
            ]
          },
          "metadata": {
            "tags": []
          },
          "execution_count": 7
        }
      ]
    },
    {
      "cell_type": "code",
      "metadata": {
        "id": "f-GZLnIp7_2s"
      },
      "source": [
        "def preprocess(bgr_img):#gray image   \n",
        "    img = bgr_img[:]\n",
        "    blur = cv2.GaussianBlur(img,(5,5),0)\n",
        "    ret,th_img = cv2.threshold(blur,0,255,cv2.THRESH_BINARY_INV+cv2.THRESH_OTSU) #converts black to white and inverse\n",
        "\n",
        "    rows, cols = th_img.shape\n",
        "    bg_test = np.array([th_img[i][i] for i in range(5)])\n",
        "    if bg_test.all() == 0:\n",
        "        text_color = 255\n",
        "    else:\n",
        "        text_color = 0\n",
        "    #print('Process: Localization....\\n')\n",
        "    tb = borders(th_img, text_color)\n",
        "    lr = borders(th_img.T, text_color)\n",
        "    dummy = int(np.average((tb[2], lr[2]))) + 2\n",
        "    template = th_img[tb[0]+dummy:tb[1]-dummy, lr[0]+dummy:lr[1]-dummy]\n",
        "    #print(\"Process: Segmentation....\\n\")\n",
        "    segments = segmentation(template, text_color)\n",
        "    \n",
        "    #print('Process: Detection.....\\n')\n",
        "    return segments, template, th_img, text_color"
      ],
      "execution_count": 30,
      "outputs": []
    },
    {
      "cell_type": "code",
      "metadata": {
        "id": "oBOMkdqY6KyU"
      },
      "source": [
        "def borders(here_img, thresh):\n",
        "    size = here_img.shape\n",
        "    check = int(115 * size[0] / 600)\n",
        "    image = here_img[:]\n",
        "    top, bottom = 0, size[0] - 1\n",
        "    #plt.imshow(image)\n",
        "    #plt.show()\n",
        "    shape = size\n",
        "\n",
        "    #find the background color for empty column\n",
        "    bg = np.repeat(thresh, shape[1])\n",
        "    count = 0\n",
        "    for row in range(1, shape[0]):\n",
        "        if  (np.equal(bg, image[row]).any()) == True:\n",
        "            #print(count)\n",
        "            count += 1\n",
        "        else:\n",
        "            count = 0\n",
        "        if count >= check:\n",
        "            top = row - check\n",
        "            break\n",
        "    \n",
        "    \n",
        "    shape = image.shape\n",
        "    bg = np.repeat(thresh, shape[1])\n",
        "    count = 0\n",
        "    rows = np.arange(1, shape[0])\n",
        "    #print(rows)\n",
        "    for row in rows[::-1]:\n",
        "        if  (np.equal(bg, image[row]).any()) == True:\n",
        "            count += 1\n",
        "        else:\n",
        "            count = 0\n",
        "        if count >= check:\n",
        "            bottom = row + count\n",
        "            break\n",
        "    #print(count)\n",
        "    \n",
        "    \n",
        "    #plt.imshow(here_img[top:bottom, :])\n",
        "    #plt.imshow(here_img[top:bottom, :])\n",
        "    #plt.show()\n",
        "    \n",
        "    d1 = (top - 2) >= 0 \n",
        "    d2 = (bottom + 2) < size[0]\n",
        "    d = d1 and d2\n",
        "    if(d):\n",
        "        b = 2\n",
        "    else:\n",
        "        b = 0\n",
        "    \n",
        "    return (top, bottom, b)"
      ],
      "execution_count": 17,
      "outputs": []
    },
    {
      "cell_type": "code",
      "metadata": {
        "id": "SAJOxxPq6kpI"
      },
      "source": [
        "## Segmentation\n",
        "def segmentation(bordered, thresh):\n",
        "    try:\n",
        "        shape = bordered.shape\n",
        "        check = int(50 * shape[0] / 320)\n",
        "        image = bordered[:]\n",
        "        image = image[check:].T\n",
        "        shape = image.shape\n",
        "        #plt.imshow(image)\n",
        "        #plt.show()\n",
        "\n",
        "        #find the background color for empty column\n",
        "        bg = np.repeat(255 - thresh, shape[1])\n",
        "        bg_keys = []\n",
        "        for row in range(1, shape[0]):\n",
        "            if  (np.equal(bg, image[row]).all()):\n",
        "                bg_keys.append(row)            \n",
        "\n",
        "        lenkeys = len(bg_keys)-1\n",
        "        new_keys = [bg_keys[1], bg_keys[-1]]\n",
        "        #print(lenkeys)\n",
        "        for i in range(1, lenkeys):\n",
        "            if (bg_keys[i+1] - bg_keys[i]) > check:\n",
        "                new_keys.append(bg_keys[i])\n",
        "                #print(i)\n",
        "\n",
        "        new_keys = sorted(new_keys)\n",
        "        #print(new_keys)\n",
        "        segmented_templates = []\n",
        "        first = 0\n",
        "        for key in new_keys[1:]:\n",
        "            segment = bordered.T[first:key]\n",
        "            segmented_templates.append(segment.T)\n",
        "            #show middle segments\n",
        "            #plt.imshow(segment.T)\n",
        "            #plt.show()\n",
        "            first = key\n",
        "        last_segment = bordered.T[new_keys[-1]:]\n",
        "        segmented_templates.append(last_segment.T)\n",
        "        \n",
        "        #check if each segment shape is enough to do recognition\n",
        "        \n",
        "\n",
        "        return(segmented_templates)\n",
        "    except:\n",
        "        return [bordered]"
      ],
      "execution_count": 18,
      "outputs": []
    },
    {
      "cell_type": "code",
      "metadata": {
        "colab": {
          "base_uri": "https://localhost:8080/",
          "height": 177
        },
        "id": "2wI0XCSA4tbr",
        "outputId": "9326965b-4770-48f5-e551-3e35d804b881"
      },
      "source": [
        "cv2_imshow(pre_img)"
      ],
      "execution_count": 19,
      "outputs": [
        {
          "output_type": "display_data",
          "data": {
            "image/png": "[encoded data removed]",
            "text/plain": [
              "<PIL.Image.Image image mode=L size=1198x188 at 0x7FBE44F9A2E8>"
            ]
          },
          "metadata": {
            "tags": []
          }
        }
      ]
    },
    {
      "cell_type": "code",
      "metadata": {
        "id": "31BTJraw53Gv"
      },
      "source": [
        ""
      ],
      "execution_count": 19,
      "outputs": []
    },
    {
      "cell_type": "code",
      "metadata": {
        "id": "oKWVlqy6ux2V"
      },
      "source": [
        "def localize(main_image, gray_img, localized, bc, show):\n",
        "    #open the template as gray scale image\n",
        "        template = localized\n",
        "        #print(template.shape)\n",
        "        width, height = template.shape[::-1] #get the width and height\n",
        "        #match the template using cv2.matchTemplate\n",
        "        match = cv2.matchTemplate(gray_img, template, cv2.TM_CCOEFF_NORMED)\n",
        "        threshold = 0.8\n",
        "        position = np.where(match >= threshold) #get the location of template in the image\n",
        "        for point in zip(*position[::-1]): #draw the rectangle around the matched template\n",
        "            cv2.rectangle(main_image, point, (point[0] + width, point[1] + height), (255 - bc, 0, bc ), 2)\n",
        "\n",
        "        return main_image"
      ],
      "execution_count": 20,
      "outputs": []
    },
    {
      "cell_type": "code",
      "metadata": {
        "id": "V2eBa6yDu5pT"
      },
      "source": [
        "def detect_text(main_image, gray_img, localized, bc):        \n",
        "        cimg = cv2.resize(localized, (30, 30))\n",
        "        nimg = cv2.copyMakeBorder(cimg, top=1, bottom=1, left=1, right=1, borderType=cv2.BORDER_CONSTANT, value=[255-bc, 0, 0])\n",
        "\n",
        "        return main_image, nimg"
      ],
      "execution_count": 34,
      "outputs": []
    },
    {
      "cell_type": "code",
      "metadata": {
        "id": "FDMQ7GW3u53L"
      },
      "source": [
        "import numpy as np\n",
        "from keras.models import model_from_json\n",
        "from keras.models import load_model\n",
        "\n",
        "def prediction(img):\n",
        "    # load json and create model\n",
        "    json_file = open('cnn2\\cnn2.json', 'r')\n",
        "    \n",
        "    loaded_model_json = json_file.read()\n",
        "    json_file.close()\n",
        "    loaded_model = model_from_json(loaded_model_json)\n",
        "    \n",
        "    # load weights into new model\n",
        "    loaded_model.load_weights(\"cnn2\\cnn2.h5\")\n",
        "    #print(\"Loaded model from disk\")\n",
        "    \n",
        "    loaded_model.save('cnn.hdf5')\n",
        "    loaded_model=load_model('cnn.hdf5')\n",
        "    \n",
        "    characters = '०,१,२,३,४,५,६,७,८,९,क,ख,ग,घ,ङ,च,छ,ज,झ,ञ,ट,ठ,ड,ढ,ण,त,थ,द,ध,न,प,फ,ब,भ,म,य,र,ल,व,श,ष,स,ह,क्ष,त्र,ज्ञ'\n",
        "    characters = characters.split(',')\n",
        "    \n",
        "    x = np.asarray(img, dtype = np.float32).reshape(1, 32, 32, 1) / 255 \n",
        "    \n",
        "    output = loaded_model.predict(x)\n",
        "    output = output.reshape(46)\n",
        "    predicted = np.argmax(output)\n",
        "    devanagari_label = characters[predicted]\n",
        "    success = output[predicted] * 100\n",
        "    \n",
        "    return devanagari_label, success"
      ],
      "execution_count": 22,
      "outputs": []
    },
    {
      "cell_type": "code",
      "metadata": {
        "id": "o9XpW9DDu5dV"
      },
      "source": [
        "import numpy as np\n",
        "import matplotlib.pyplot as plt\n",
        "import cv2\n",
        "\n",
        "def recognition(gray_image, show):\n",
        "    segments, template, th_img, text_color = preprocess(gray_image)\n",
        "    labels = []\n",
        "    accuracy = []\n",
        "    show_img = gray_image[:]\n",
        "    #print(len(segments))\n",
        "    \n",
        "    for segment in segments: \n",
        "        #plt.imshow(segment)\n",
        "        #plt.show()\n",
        "        recimg, bimg = detect_text(show_img, th_img, segment, text_color)\n",
        "        #print('Process: Recognition....\\n')\n",
        "        label, sure = prediction(bimg)\n",
        "        if(sure > 80):\n",
        "            #print(segment)\n",
        "            labels.append(str(label))\n",
        "            accuracy.append(sure)\n",
        "            show_img = localize(show_img, th_img, segment, text_color, show)\n",
        "        char = labels\n",
        "    accuracy = np.average(accuracy)\n",
        "    char = ''.join(char)\n",
        "    if accuracy < 80:\n",
        "        recimg, bimg = detect_text(show_img, th_img, template, text_color)\n",
        "        show_img = localize(show_img, th_img, template, text_color, show)\n",
        "        char, accuracy = prediction(bimg)\n",
        "        \n",
        "    if (show == 'show'):\n",
        "        plt.imshow(show_img)\n",
        "        plt.title('Detecting')\n",
        "        plt.xticks([])\n",
        "        plt.yticks([])\n",
        "        plt.show()\n",
        "    else:\n",
        "        cv2.imshow('Detecting..', cv2.cvtColor(show_img, cv2.COLOR_GRAY2BGR))\n",
        "    \n",
        "    print('The prediction accuracy for ', char,' is ',\"%.2f\" % round(accuracy,2), '%')"
      ],
      "execution_count": 24,
      "outputs": []
    },
    {
      "cell_type": "code",
      "metadata": {
        "colab": {
          "base_uri": "https://localhost:8080/",
          "height": 445
        },
        "id": "Mciu21wBvfmL",
        "outputId": "ca3eee0d-e0e1-45d5-c161-127687d0555b"
      },
      "source": [
        "\n",
        "import cv2\n",
        "import matplotlib.pyplot as plt\n",
        "import time\n",
        "\n",
        "    #test = input('Please enter the image directory with name.\\n')\n",
        "test = cv2.imread('/content/marathi.png', 0)\n",
        "plt.imshow(cv2.cvtColor(test, cv2.COLOR_GRAY2RGB))\n",
        "plt.xticks([])\n",
        "plt.yticks([])\n",
        "plt.show()\n",
        "time1 = time.time()\n",
        "in_img = recognition(test, 'show')\n",
        "print(\"In %f\" %(time.time()-time1), 'sec')\n",
        "\n",
        "\n",
        "    "
      ],
      "execution_count": 35,
      "outputs": [
        {
          "output_type": "display_data",
          "data": {
            "image/png": "[encoded data removed]",
            "text/plain": [
              "<Figure size 432x288 with 1 Axes>"
            ]
          },
          "metadata": {
            "tags": []
          }
        },
        {
          "output_type": "error",
          "ename": "FileNotFoundError",
          "evalue": "ignored",
          "traceback": [
            "\u001b[0;31m---------------------------------------------------------------------------\u001b[0m",
            "\u001b[0;31mFileNotFoundError\u001b[0m                         Traceback (most recent call last)",
            "\u001b[0;32m<ipython-input-35-0789b791a504>\u001b[0m in \u001b[0;36m<module>\u001b[0;34m()\u001b[0m\n\u001b[1;32m     11\u001b[0m \u001b[0mplt\u001b[0m\u001b[0;34m.\u001b[0m\u001b[0mshow\u001b[0m\u001b[0;34m(\u001b[0m\u001b[0;34m)\u001b[0m\u001b[0;34m\u001b[0m\u001b[0;34m\u001b[0m\u001b[0m\n\u001b[1;32m     12\u001b[0m \u001b[0mtime1\u001b[0m \u001b[0;34m=\u001b[0m \u001b[0mtime\u001b[0m\u001b[0;34m.\u001b[0m\u001b[0mtime\u001b[0m\u001b[0;34m(\u001b[0m\u001b[0;34m)\u001b[0m\u001b[0;34m\u001b[0m\u001b[0;34m\u001b[0m\u001b[0m\n\u001b[0;32m---> 13\u001b[0;31m \u001b[0min_img\u001b[0m \u001b[0;34m=\u001b[0m \u001b[0mrecognition\u001b[0m\u001b[0;34m(\u001b[0m\u001b[0mtest\u001b[0m\u001b[0;34m,\u001b[0m \u001b[0;34m'show'\u001b[0m\u001b[0;34m)\u001b[0m\u001b[0;34m\u001b[0m\u001b[0;34m\u001b[0m\u001b[0m\n\u001b[0m\u001b[1;32m     14\u001b[0m \u001b[0mprint\u001b[0m\u001b[0;34m(\u001b[0m\u001b[0;34m\"In %f\"\u001b[0m \u001b[0;34m%\u001b[0m\u001b[0;34m(\u001b[0m\u001b[0mtime\u001b[0m\u001b[0;34m.\u001b[0m\u001b[0mtime\u001b[0m\u001b[0;34m(\u001b[0m\u001b[0;34m)\u001b[0m\u001b[0;34m-\u001b[0m\u001b[0mtime1\u001b[0m\u001b[0;34m)\u001b[0m\u001b[0;34m,\u001b[0m \u001b[0;34m'sec'\u001b[0m\u001b[0;34m)\u001b[0m\u001b[0;34m\u001b[0m\u001b[0;34m\u001b[0m\u001b[0m\n\u001b[1;32m     15\u001b[0m \u001b[0;34m\u001b[0m\u001b[0m\n",
            "\u001b[0;32m<ipython-input-24-18ee3a38988c>\u001b[0m in \u001b[0;36mrecognition\u001b[0;34m(gray_image, show)\u001b[0m\n\u001b[1;32m     15\u001b[0m         \u001b[0mrecimg\u001b[0m\u001b[0;34m,\u001b[0m \u001b[0mbimg\u001b[0m \u001b[0;34m=\u001b[0m \u001b[0mdetect_text\u001b[0m\u001b[0;34m(\u001b[0m\u001b[0mshow_img\u001b[0m\u001b[0;34m,\u001b[0m \u001b[0mth_img\u001b[0m\u001b[0;34m,\u001b[0m \u001b[0msegment\u001b[0m\u001b[0;34m,\u001b[0m \u001b[0mtext_color\u001b[0m\u001b[0;34m)\u001b[0m\u001b[0;34m\u001b[0m\u001b[0;34m\u001b[0m\u001b[0m\n\u001b[1;32m     16\u001b[0m         \u001b[0;31m#print('Process: Recognition....\\n')\u001b[0m\u001b[0;34m\u001b[0m\u001b[0;34m\u001b[0m\u001b[0;34m\u001b[0m\u001b[0m\n\u001b[0;32m---> 17\u001b[0;31m         \u001b[0mlabel\u001b[0m\u001b[0;34m,\u001b[0m \u001b[0msure\u001b[0m \u001b[0;34m=\u001b[0m \u001b[0mprediction\u001b[0m\u001b[0;34m(\u001b[0m\u001b[0mbimg\u001b[0m\u001b[0;34m)\u001b[0m\u001b[0;34m\u001b[0m\u001b[0;34m\u001b[0m\u001b[0m\n\u001b[0m\u001b[1;32m     18\u001b[0m         \u001b[0;32mif\u001b[0m\u001b[0;34m(\u001b[0m\u001b[0msure\u001b[0m \u001b[0;34m>\u001b[0m \u001b[0;36m80\u001b[0m\u001b[0;34m)\u001b[0m\u001b[0;34m:\u001b[0m\u001b[0;34m\u001b[0m\u001b[0;34m\u001b[0m\u001b[0m\n\u001b[1;32m     19\u001b[0m             \u001b[0;31m#print(segment)\u001b[0m\u001b[0;34m\u001b[0m\u001b[0;34m\u001b[0m\u001b[0;34m\u001b[0m\u001b[0m\n",
            "\u001b[0;32m<ipython-input-22-6a5997dbf341>\u001b[0m in \u001b[0;36mprediction\u001b[0;34m(img)\u001b[0m\n\u001b[1;32m      5\u001b[0m \u001b[0;32mdef\u001b[0m \u001b[0mprediction\u001b[0m\u001b[0;34m(\u001b[0m\u001b[0mimg\u001b[0m\u001b[0;34m)\u001b[0m\u001b[0;34m:\u001b[0m\u001b[0;34m\u001b[0m\u001b[0;34m\u001b[0m\u001b[0m\n\u001b[1;32m      6\u001b[0m     \u001b[0;31m# load json and create model\u001b[0m\u001b[0;34m\u001b[0m\u001b[0;34m\u001b[0m\u001b[0;34m\u001b[0m\u001b[0m\n\u001b[0;32m----> 7\u001b[0;31m     \u001b[0mjson_file\u001b[0m \u001b[0;34m=\u001b[0m \u001b[0mopen\u001b[0m\u001b[0;34m(\u001b[0m\u001b[0;34m'cnn2\\cnn2.json'\u001b[0m\u001b[0;34m,\u001b[0m \u001b[0;34m'r'\u001b[0m\u001b[0;34m)\u001b[0m\u001b[0;34m\u001b[0m\u001b[0;34m\u001b[0m\u001b[0m\n\u001b[0m\u001b[1;32m      8\u001b[0m \u001b[0;34m\u001b[0m\u001b[0m\n\u001b[1;32m      9\u001b[0m     \u001b[0mloaded_model_json\u001b[0m \u001b[0;34m=\u001b[0m \u001b[0mjson_file\u001b[0m\u001b[0;34m.\u001b[0m\u001b[0mread\u001b[0m\u001b[0;34m(\u001b[0m\u001b[0;34m)\u001b[0m\u001b[0;34m\u001b[0m\u001b[0;34m\u001b[0m\u001b[0m\n",
            "\u001b[0;31mFileNotFoundError\u001b[0m: [Errno 2] No such file or directory: 'cnn2\\\\cnn2.json'"
          ]
        }
      ]
    },
    {
      "cell_type": "code",
      "metadata": {
        "id": "7WL1eyFXvfck"
      },
      "source": [
        ""
      ],
      "execution_count": null,
      "outputs": []
    }
  ]
}